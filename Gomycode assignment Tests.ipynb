{
 "cells": [
  {
   "cell_type": "markdown",
   "id": "f0027349",
   "metadata": {},
   "source": [
    "# GOMYCODE CHECKPOINT"
   ]
  },
  {
   "cell_type": "markdown",
   "id": "490edef9",
   "metadata": {},
   "source": [
    "### Question 1\n",
    "\n",
    "###### Write a program that will find all numbers which are divisible by 7 but are not a multiple of 5, between 2000 and 3200 (both included). The numbers obtained should be printed in a list.\n",
    "\n",
    "Hint: Consider using the range(#begin, #end) method."
   ]
  },
  {
   "cell_type": "code",
   "execution_count": 32,
   "id": "07d27a0a",
   "metadata": {},
   "outputs": [
    {
     "name": "stdout",
     "output_type": "stream",
     "text": [
      "[2002, 2009, 2016, 2023, 2037, 2044, 2051, 2058, 2072, 2079, 2086, 2093, 2107, 2114, 2121, 2128, 2142, 2149, 2156, 2163, 2177, 2184, 2191, 2198, 2212, 2219, 2226, 2233, 2247, 2254, 2261, 2268, 2282, 2289, 2296, 2303, 2317, 2324, 2331, 2338, 2352, 2359, 2366, 2373, 2387, 2394, 2401, 2408, 2422, 2429, 2436, 2443, 2457, 2464, 2471, 2478, 2492, 2499, 2506, 2513, 2527, 2534, 2541, 2548, 2562, 2569, 2576, 2583, 2597, 2604, 2611, 2618, 2632, 2639, 2646, 2653, 2667, 2674, 2681, 2688, 2702, 2709, 2716, 2723, 2737, 2744, 2751, 2758, 2772, 2779, 2786, 2793, 2807, 2814, 2821, 2828, 2842, 2849, 2856, 2863, 2877, 2884, 2891, 2898, 2912, 2919, 2926, 2933, 2947, 2954, 2961, 2968, 2982, 2989, 2996, 3003, 3017, 3024, 3031, 3038, 3052, 3059, 3066, 3073, 3087, 3094, 3101, 3108, 3122, 3129, 3136, 3143, 3157, 3164, 3171, 3178, 3192, 3199]"
     ]
    }
   ],
   "source": [
    "# Loop through all the values of the range given with 3200 inclusive\n",
    "\n",
    "# Declare an empty list num_by_seven\n",
    "num_by_seven = []\n",
    "    # Loop through all the values of the range given with 3200 inclusive\n",
    "for i in range(2000, 3201):\n",
    "    \n",
    "   \n",
    "    \n",
    "        # Check if values in the range are divisible by 7 without a remainder\n",
    "        # Using the and conditionals, also test if values are divisible by 5 without a remainder\n",
    "    \n",
    "    if i % 7 == 0 and i % 5 != 0:\n",
    "        \n",
    "            # append all the numbers that satisfies the above condition to the list using the append method\n",
    "        num_by_seven.append(i)\n",
    "\n",
    "print(num_by_seven, end=\"\")\n",
    "    "
   ]
  },
  {
   "cell_type": "markdown",
   "id": "f7cc424e",
   "metadata": {},
   "source": [
    "### Question 2\n",
    "\n",
    "######  Write a program that can compute the factorial of a given number. (The factorial of n is the product of all positive integers less than or equal to n.) For example: For factorial(5)= 5 x 4 x 3 x 2 x 1 the result is 120 (i.e. factorial (0)=1)."
   ]
  },
  {
   "cell_type": "code",
   "execution_count": 28,
   "id": "1c22d18e",
   "metadata": {},
   "outputs": [
    {
     "data": {
      "text/plain": [
       "1"
      ]
     },
     "execution_count": 28,
     "metadata": {},
     "output_type": "execute_result"
    }
   ],
   "source": [
    "# Using the recursion algorithm, we get the factorial of any number\n",
    "\n",
    "# define the factorial function\n",
    "\n",
    "def factorial(n):\n",
    "    # Return 1 for values of n = 0 or 1\n",
    "    if n in [0, 1]:\n",
    "        return 1\n",
    "    else:\n",
    "        # Recursively generate values of the factorial and multiply by the number given\n",
    "        return n * factorial(n-1)\n",
    "\n",
    "factorial(0)"
   ]
  },
  {
   "cell_type": "markdown",
   "id": "87e0fe02",
   "metadata": {},
   "source": [
    "### Question 3\n",
    "\n",
    "###### With a given integer number n, write a program to generate a dictionary that contains (i, i*i) such that is an integral number between 1 and n (both included). Then, the program should print the dictionary. Suppose the following input is supplied to the program: 8 Then, the output should be: {1: 1, 2: 4, 3: 9, 4: 16, 5: 25, 6: 36, 7: 49, 8: 64} "
   ]
  },
  {
   "cell_type": "code",
   "execution_count": 21,
   "id": "26fe6f55",
   "metadata": {},
   "outputs": [
    {
     "name": "stdout",
     "output_type": "stream",
     "text": [
      "{1: 1, 2: 4, 3: 9, 4: 16, 5: 25, 6: 36, 7: 49, 8: 64, 9: 81, 10: 100}\n"
     ]
    }
   ],
   "source": [
    "# function definition, receives an argument of type integer\n",
    "\n",
    "def square_of_dict(n: int): \n",
    "    # initializing an empty dictionary dict\n",
    "    dict = {} \n",
    "    # loop through range of value from 1 to the entered argument(n + 1) for n inclusive\n",
    "    for i in range (1, n+1): \n",
    "        dict[i] = i ** 2 # assign values to the dictionary dict key and value pair\n",
    "    print(dict)\n",
    "    \n",
    "square_of_dict(10)"
   ]
  },
  {
   "cell_type": "markdown",
   "id": "b319a3a4",
   "metadata": {},
   "source": [
    "### Question 4\n",
    "\n",
    "###### Given a non-empty string and an integral n, return a new string where the char at index n has been removed. The value of n will be a valid index of a char in the original string (i.e. n will be in the range 0..len(str)-1 inclusive).\n",
    "\n",
    "missing_char('kitten', 1) → 'ktten'    for example here we remove \"i\" which is located in the index 1\n",
    "\n",
    "missing_char('kitten', 0) → 'itten'   here we remove \"k\" which is in the index 0\n",
    "\n",
    "missing_char('kitten', 4) → 'kittn'   here we remove \"e\" which is in the index 4"
   ]
  },
  {
   "cell_type": "code",
   "execution_count": 16,
   "id": "6dd801d0",
   "metadata": {},
   "outputs": [
    {
     "name": "stdout",
     "output_type": "stream",
     "text": [
      "Edin\n"
     ]
    }
   ],
   "source": [
    "# define function missing char that takes two arguments\n",
    "# word = type string and n is the index of the character to be removed\n",
    "\n",
    "def missing_char(word: str, n):\n",
    "    # Since strings are immutable, function only replaces the character at index n with an empty string\n",
    "    # Using the replace method for strings\n",
    "    print(word.replace(word[n], \"\"))\n",
    "\n",
    "\n",
    "missing_char(\"Edwin\", 2)"
   ]
  },
  {
   "cell_type": "markdown",
   "id": "fbc5a74e",
   "metadata": {},
   "source": [
    "### Question 5\n",
    "###### Question: Write a NumPy program to convert a NumPy array into a Python list structure.\n",
    "\n",
    "Expected output: \n",
    "\n",
    "Original array elements: [[0 1] [2 3] [4 5]] \n",
    "\n",
    "Array to list: [[0, 1], [2, 3], [4, 5\n"
   ]
  },
  {
   "cell_type": "code",
   "execution_count": 36,
   "id": "f60b3d07",
   "metadata": {},
   "outputs": [
    {
     "name": "stdout",
     "output_type": "stream",
     "text": [
      "\n",
      "Original array elements: [[0 1]\n",
      " [2 3]\n",
      " [4 5]]\n",
      "\n",
      "Array to list: [[0, 1], [2, 3], [4, 5]]\n"
     ]
    }
   ],
   "source": [
    "# import modules\n",
    "import numpy as np\n",
    "\n",
    "array = np.array([[0, 1],\n",
    "                  [2, 3],\n",
    "                  [4, 5]])\n",
    "\n",
    "# Convert the array to a list using the tolist() numpy array method\n",
    "\n",
    "print(\"\\nOriginal array elements:\", array)\n",
    "print(\"\\nArray to list:\", array.tolist())\n"
   ]
  },
  {
   "cell_type": "markdown",
   "id": "6da22dc2",
   "metadata": {},
   "source": [
    "### Question 6\n",
    "\n",
    "###### Write a NumPy program to compute the covariance matrix of two given arrays. \n",
    "\n",
    "Original array1: [0 1 2] \n",
    "\n",
    "Original array2: [2 1 0] \n",
    "\n",
    "Covariance matrix of the said arrays: [[ 1. -1.] [-1. 1.]]\n",
    " \n",
    "\n",
    "Hint: We can use the np.cov() function to calculate the covariance between these two arrays"
   ]
  },
  {
   "cell_type": "code",
   "execution_count": 35,
   "id": "fb92e548",
   "metadata": {},
   "outputs": [
    {
     "name": "stdout",
     "output_type": "stream",
     "text": [
      "\n",
      "Original array1: [0 1 2]\n",
      "\n",
      "Original array2: [2 1 0]\n",
      "\n",
      "Covariance matrix of the said arrays: [[ 1. -1.]\n",
      " [-1.  1.]]\n"
     ]
    }
   ],
   "source": [
    "# import modules\n",
    "\n",
    "import numpy as np\n",
    "\n",
    "array_x = np.array([0, 1, 2])\n",
    "array_y = np.array([2, 1, 0])\n",
    "\n",
    "print(\"\\nOriginal array1:\", array_x)\n",
    "print(\"\\nOriginal array2:\", array_y)\n",
    "\n",
    "# print the covariance of the two array using the np.cov method\n",
    "print(\"\\nCovariance matrix of the said arrays:\", np.cov(array_x, array_y))"
   ]
  },
  {
   "cell_type": "markdown",
   "id": "537e06cf",
   "metadata": {},
   "source": [
    "### Question 7\n",
    "\n",
    "######  Question: Write a program that calculates and prints the value according to the given formula: Q= Square root of [(2 * C * D)/H] \n",
    "\n",
    "The following are the fixed values of C and H: C is 50. H is 30. \n",
    "\n",
    "D is the variable whose values should be input into your program in a comma-separated sequence. (That means D contains more than value)\n",
    "\n",
    "Example: Let's assume the following comma-separated input sequence is given to the program: 100,150,180 The output of the program should be 18,22,24 \n",
    "\n",
    "To further explain this, we will obtain a result for each value of D:  Q1= Square root of [(2 * C * 100)/H] =18, Q2= Square root of [(2 * C * 150)/H] = 22 and Q3 = Square root of [(2 * C * 180)/H]  = 24\n",
    "\n",
    "Hint: If the output received is in decimal form, it should be rounded off to its nearest value. For example, if the output received is 26.0, it should be printed as 26. In case of input data being supplied to the question, it should be assumed to be a console input. \n",
    "\n"
   ]
  },
  {
   "cell_type": "code",
   "execution_count": 46,
   "id": "44b4faa3",
   "metadata": {},
   "outputs": [
    {
     "name": "stdout",
     "output_type": "stream",
     "text": [
      "Enter the value of D:150\n",
      "22\n"
     ]
    }
   ],
   "source": [
    "# import modules - Python math module\n",
    "import math\n",
    "\n",
    "# Enter the value of D using the console\n",
    "D = int(input(\"Enter the value of D:\"))\n",
    "# Assign values to variables C and H\n",
    "C = 50\n",
    "H = 30\n",
    "print(math.floor(math.sqrt((2 * C * D)/H)))\n",
    "\n",
    "\n"
   ]
  },
  {
   "cell_type": "code",
   "execution_count": null,
   "id": "d4b8469c",
   "metadata": {},
   "outputs": [],
   "source": []
  }
 ],
 "metadata": {
  "kernelspec": {
   "display_name": "Python 3 (ipykernel)",
   "language": "python",
   "name": "python3"
  },
  "language_info": {
   "codemirror_mode": {
    "name": "ipython",
    "version": 3
   },
   "file_extension": ".py",
   "mimetype": "text/x-python",
   "name": "python",
   "nbconvert_exporter": "python",
   "pygments_lexer": "ipython3",
   "version": "3.9.13"
  }
 },
 "nbformat": 4,
 "nbformat_minor": 5
}
